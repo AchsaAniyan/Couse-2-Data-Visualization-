{
 "cells": [
  {
   "cell_type": "markdown",
   "id": "2b4da0a5",
   "metadata": {
    "papermill": {
     "duration": 0.00798,
     "end_time": "2023-12-01T19:17:16.556360",
     "exception": false,
     "start_time": "2023-12-01T19:17:16.548380",
     "status": "completed"
    },
    "tags": []
   },
   "source": [
    "**This notebook is an exercise in the [Data Visualization](https://www.kaggle.com/learn/data-visualization) course.  You can reference the tutorial at [this link](https://www.kaggle.com/alexisbcook/scatter-plots).**\n",
    "\n",
    "---\n"
   ]
  },
  {
   "cell_type": "markdown",
   "id": "aebc8e4b",
   "metadata": {
    "papermill": {
     "duration": 0.007194,
     "end_time": "2023-12-01T19:17:16.571421",
     "exception": false,
     "start_time": "2023-12-01T19:17:16.564227",
     "status": "completed"
    },
    "tags": []
   },
   "source": [
    "In this exercise, you will use your new knowledge to propose a solution to a real-world scenario.  To succeed, you will need to import data into Python, answer questions using the data, and generate **scatter plots** to understand patterns in the data.\n",
    "\n",
    "## Scenario\n",
    "\n",
    "You work for a major candy producer, and your goal is to write a report that your company can use to guide the design of its next product.  Soon after starting your research, you stumble across this [very interesting dataset](https://fivethirtyeight.com/features/the-ultimate-halloween-candy-power-ranking/) containing results from a fun survey to crowdsource favorite candies.\n",
    "\n",
    "## Setup\n",
    "\n",
    "Run the next cell to import and configure the Python libraries that you need to complete the exercise."
   ]
  },
  {
   "cell_type": "code",
   "execution_count": 1,
   "id": "56a356a9",
   "metadata": {
    "execution": {
     "iopub.execute_input": "2023-12-01T19:17:16.588135Z",
     "iopub.status.busy": "2023-12-01T19:17:16.587726Z",
     "iopub.status.idle": "2023-12-01T19:17:18.340635Z",
     "shell.execute_reply": "2023-12-01T19:17:18.338734Z"
    },
    "papermill": {
     "duration": 1.763783,
     "end_time": "2023-12-01T19:17:18.342733",
     "exception": false,
     "start_time": "2023-12-01T19:17:16.578950",
     "status": "completed"
    },
    "tags": []
   },
   "outputs": [
    {
     "name": "stdout",
     "output_type": "stream",
     "text": [
      "Setup Complete\n"
     ]
    }
   ],
   "source": [
    "import pandas as pd\n",
    "pd.plotting.register_matplotlib_converters()\n",
    "import matplotlib.pyplot as plt\n",
    "%matplotlib inline\n",
    "import seaborn as sns\n",
    "print(\"Setup Complete\")"
   ]
  },
  {
   "cell_type": "markdown",
   "id": "fab2e6fb",
   "metadata": {
    "papermill": {
     "duration": 0.007149,
     "end_time": "2023-12-01T19:17:18.357634",
     "exception": false,
     "start_time": "2023-12-01T19:17:18.350485",
     "status": "completed"
    },
    "tags": []
   },
   "source": [
    "The questions below will give you feedback on your work. Run the following cell to set up our feedback system."
   ]
  },
  {
   "cell_type": "code",
   "execution_count": 2,
   "id": "9dfd7e5b",
   "metadata": {
    "execution": {
     "iopub.execute_input": "2023-12-01T19:17:18.374482Z",
     "iopub.status.busy": "2023-12-01T19:17:18.373992Z",
     "iopub.status.idle": "2023-12-01T19:17:18.538752Z",
     "shell.execute_reply": "2023-12-01T19:17:18.536668Z"
    },
    "papermill": {
     "duration": 0.176447,
     "end_time": "2023-12-01T19:17:18.541545",
     "exception": false,
     "start_time": "2023-12-01T19:17:18.365098",
     "status": "completed"
    },
    "tags": []
   },
   "outputs": [
    {
     "name": "stdout",
     "output_type": "stream",
     "text": [
      "Setup Complete\n"
     ]
    }
   ],
   "source": [
    "# Set up code checking\n",
    "import os\n",
    "if not os.path.exists(\"../input/candy.csv\"):\n",
    "    os.symlink(\"../input/data-for-datavis/candy.csv\", \"../input/candy.csv\") \n",
    "from learntools.core import binder\n",
    "binder.bind(globals())\n",
    "from learntools.data_viz_to_coder.ex4 import *\n",
    "print(\"Setup Complete\")"
   ]
  },
  {
   "cell_type": "markdown",
   "id": "91feca8c",
   "metadata": {
    "papermill": {
     "duration": 0.007015,
     "end_time": "2023-12-01T19:17:18.556355",
     "exception": false,
     "start_time": "2023-12-01T19:17:18.549340",
     "status": "completed"
    },
    "tags": []
   },
   "source": [
    "## Step 1: Load the Data\n",
    "\n",
    "Read the candy data file into `candy_data`.  Use the `\"id\"` column to label the rows."
   ]
  },
  {
   "cell_type": "code",
   "execution_count": 3,
   "id": "15d6c057",
   "metadata": {
    "execution": {
     "iopub.execute_input": "2023-12-01T19:17:18.573061Z",
     "iopub.status.busy": "2023-12-01T19:17:18.572196Z",
     "iopub.status.idle": "2023-12-01T19:17:18.590340Z",
     "shell.execute_reply": "2023-12-01T19:17:18.588932Z"
    },
    "papermill": {
     "duration": 0.028835,
     "end_time": "2023-12-01T19:17:18.592497",
     "exception": false,
     "start_time": "2023-12-01T19:17:18.563662",
     "status": "completed"
    },
    "tags": []
   },
   "outputs": [
    {
     "data": {
      "application/javascript": [
       "parent.postMessage({\"jupyterEvent\": \"custom.exercise_interaction\", \"data\": {\"outcomeType\": 1, \"valueTowardsCompletion\": 0.3333333333333333, \"interactionType\": 1, \"questionType\": 1, \"questionId\": \"1_LoadData\", \"learnToolsVersion\": \"0.3.4\", \"failureMessage\": \"\", \"exceptionClass\": \"\", \"trace\": \"\"}}, \"*\")"
      ],
      "text/plain": [
       "<IPython.core.display.Javascript object>"
      ]
     },
     "metadata": {},
     "output_type": "display_data"
    },
    {
     "data": {
      "text/markdown": [
       "<span style=\"color:#33cc33\">Correct</span>"
      ],
      "text/plain": [
       "Correct"
      ]
     },
     "metadata": {},
     "output_type": "display_data"
    }
   ],
   "source": [
    "# Path of the file to read\n",
    "candy_filepath = \"../input/candy.csv\"\n",
    "\n",
    "# Fill in the line below to read the file into a variable candy_data\n",
    "candy_data = pd.read_csv(candy_filepath, index_col=\"id\")\n",
    "\n",
    "# Run the line below with no changes to check that you've loaded the data correctly\n",
    "step_1.check()"
   ]
  },
  {
   "cell_type": "code",
   "execution_count": 4,
   "id": "9e5c1a78",
   "metadata": {
    "execution": {
     "iopub.execute_input": "2023-12-01T19:17:18.611289Z",
     "iopub.status.busy": "2023-12-01T19:17:18.610911Z",
     "iopub.status.idle": "2023-12-01T19:17:18.616497Z",
     "shell.execute_reply": "2023-12-01T19:17:18.615193Z"
    },
    "papermill": {
     "duration": 0.017362,
     "end_time": "2023-12-01T19:17:18.618549",
     "exception": false,
     "start_time": "2023-12-01T19:17:18.601187",
     "status": "completed"
    },
    "tags": []
   },
   "outputs": [],
   "source": [
    "# Lines below will give you a hint or solution code\n",
    "#step_1.hint()\n",
    "#step_1.solution()"
   ]
  },
  {
   "cell_type": "markdown",
   "id": "22737837",
   "metadata": {
    "papermill": {
     "duration": 0.007766,
     "end_time": "2023-12-01T19:17:18.635311",
     "exception": false,
     "start_time": "2023-12-01T19:17:18.627545",
     "status": "completed"
    },
    "tags": []
   },
   "source": [
    "## Step 2: Review the data\n",
    "\n",
    "Use a Python command to print the first five rows of the data."
   ]
  },
  {
   "cell_type": "code",
   "execution_count": 5,
   "id": "ca724294",
   "metadata": {
    "execution": {
     "iopub.execute_input": "2023-12-01T19:17:18.653534Z",
     "iopub.status.busy": "2023-12-01T19:17:18.653206Z",
     "iopub.status.idle": "2023-12-01T19:17:18.674120Z",
     "shell.execute_reply": "2023-12-01T19:17:18.672790Z"
    },
    "papermill": {
     "duration": 0.033234,
     "end_time": "2023-12-01T19:17:18.676720",
     "exception": false,
     "start_time": "2023-12-01T19:17:18.643486",
     "status": "completed"
    },
    "tags": []
   },
   "outputs": [
    {
     "data": {
      "text/html": [
       "<div>\n",
       "<style scoped>\n",
       "    .dataframe tbody tr th:only-of-type {\n",
       "        vertical-align: middle;\n",
       "    }\n",
       "\n",
       "    .dataframe tbody tr th {\n",
       "        vertical-align: top;\n",
       "    }\n",
       "\n",
       "    .dataframe thead th {\n",
       "        text-align: right;\n",
       "    }\n",
       "</style>\n",
       "<table border=\"1\" class=\"dataframe\">\n",
       "  <thead>\n",
       "    <tr style=\"text-align: right;\">\n",
       "      <th></th>\n",
       "      <th>competitorname</th>\n",
       "      <th>chocolate</th>\n",
       "      <th>fruity</th>\n",
       "      <th>caramel</th>\n",
       "      <th>peanutyalmondy</th>\n",
       "      <th>nougat</th>\n",
       "      <th>crispedricewafer</th>\n",
       "      <th>hard</th>\n",
       "      <th>bar</th>\n",
       "      <th>pluribus</th>\n",
       "      <th>sugarpercent</th>\n",
       "      <th>pricepercent</th>\n",
       "      <th>winpercent</th>\n",
       "    </tr>\n",
       "    <tr>\n",
       "      <th>id</th>\n",
       "      <th></th>\n",
       "      <th></th>\n",
       "      <th></th>\n",
       "      <th></th>\n",
       "      <th></th>\n",
       "      <th></th>\n",
       "      <th></th>\n",
       "      <th></th>\n",
       "      <th></th>\n",
       "      <th></th>\n",
       "      <th></th>\n",
       "      <th></th>\n",
       "      <th></th>\n",
       "    </tr>\n",
       "  </thead>\n",
       "  <tbody>\n",
       "    <tr>\n",
       "      <th>0</th>\n",
       "      <td>100 Grand</td>\n",
       "      <td>Yes</td>\n",
       "      <td>No</td>\n",
       "      <td>Yes</td>\n",
       "      <td>No</td>\n",
       "      <td>No</td>\n",
       "      <td>Yes</td>\n",
       "      <td>No</td>\n",
       "      <td>Yes</td>\n",
       "      <td>No</td>\n",
       "      <td>0.732</td>\n",
       "      <td>0.860</td>\n",
       "      <td>66.971725</td>\n",
       "    </tr>\n",
       "    <tr>\n",
       "      <th>1</th>\n",
       "      <td>3 Musketeers</td>\n",
       "      <td>Yes</td>\n",
       "      <td>No</td>\n",
       "      <td>No</td>\n",
       "      <td>No</td>\n",
       "      <td>Yes</td>\n",
       "      <td>No</td>\n",
       "      <td>No</td>\n",
       "      <td>Yes</td>\n",
       "      <td>No</td>\n",
       "      <td>0.604</td>\n",
       "      <td>0.511</td>\n",
       "      <td>67.602936</td>\n",
       "    </tr>\n",
       "    <tr>\n",
       "      <th>2</th>\n",
       "      <td>Air Heads</td>\n",
       "      <td>No</td>\n",
       "      <td>Yes</td>\n",
       "      <td>No</td>\n",
       "      <td>No</td>\n",
       "      <td>No</td>\n",
       "      <td>No</td>\n",
       "      <td>No</td>\n",
       "      <td>No</td>\n",
       "      <td>No</td>\n",
       "      <td>0.906</td>\n",
       "      <td>0.511</td>\n",
       "      <td>52.341465</td>\n",
       "    </tr>\n",
       "    <tr>\n",
       "      <th>3</th>\n",
       "      <td>Almond Joy</td>\n",
       "      <td>Yes</td>\n",
       "      <td>No</td>\n",
       "      <td>No</td>\n",
       "      <td>Yes</td>\n",
       "      <td>No</td>\n",
       "      <td>No</td>\n",
       "      <td>No</td>\n",
       "      <td>Yes</td>\n",
       "      <td>No</td>\n",
       "      <td>0.465</td>\n",
       "      <td>0.767</td>\n",
       "      <td>50.347546</td>\n",
       "    </tr>\n",
       "    <tr>\n",
       "      <th>4</th>\n",
       "      <td>Baby Ruth</td>\n",
       "      <td>Yes</td>\n",
       "      <td>No</td>\n",
       "      <td>Yes</td>\n",
       "      <td>Yes</td>\n",
       "      <td>Yes</td>\n",
       "      <td>No</td>\n",
       "      <td>No</td>\n",
       "      <td>Yes</td>\n",
       "      <td>No</td>\n",
       "      <td>0.604</td>\n",
       "      <td>0.767</td>\n",
       "      <td>56.914547</td>\n",
       "    </tr>\n",
       "  </tbody>\n",
       "</table>\n",
       "</div>"
      ],
      "text/plain": [
       "   competitorname chocolate fruity caramel peanutyalmondy nougat  \\\n",
       "id                                                                 \n",
       "0       100 Grand       Yes     No     Yes             No     No   \n",
       "1    3 Musketeers       Yes     No      No             No    Yes   \n",
       "2       Air Heads        No    Yes      No             No     No   \n",
       "3      Almond Joy       Yes     No      No            Yes     No   \n",
       "4       Baby Ruth       Yes     No     Yes            Yes    Yes   \n",
       "\n",
       "   crispedricewafer hard  bar pluribus  sugarpercent  pricepercent  winpercent  \n",
       "id                                                                              \n",
       "0               Yes   No  Yes       No         0.732         0.860   66.971725  \n",
       "1                No   No  Yes       No         0.604         0.511   67.602936  \n",
       "2                No   No   No       No         0.906         0.511   52.341465  \n",
       "3                No   No  Yes       No         0.465         0.767   50.347546  \n",
       "4                No   No  Yes       No         0.604         0.767   56.914547  "
      ]
     },
     "execution_count": 5,
     "metadata": {},
     "output_type": "execute_result"
    }
   ],
   "source": [
    "# Print the first five rows of the data\n",
    "candy_data.head() # Your code here"
   ]
  },
  {
   "cell_type": "markdown",
   "id": "f09554c2",
   "metadata": {
    "papermill": {
     "duration": 0.007866,
     "end_time": "2023-12-01T19:17:18.693056",
     "exception": false,
     "start_time": "2023-12-01T19:17:18.685190",
     "status": "completed"
    },
    "tags": []
   },
   "source": [
    "The dataset contains 83 rows, where each corresponds to a different candy bar.  There are 13 columns:\n",
    "- `'competitorname'` contains the name of the candy bar. \n",
    "- the next **9** columns (from `'chocolate'` to `'pluribus'`) describe the candy.  For instance, rows with chocolate candies have `\"Yes\"` in the `'chocolate'` column (and candies without chocolate have `\"No\"` in the same column).\n",
    "- `'sugarpercent'` provides some indication of the amount of sugar, where higher values signify higher sugar content.\n",
    "- `'pricepercent'` shows the price per unit, relative to the other candies in the dataset.\n",
    "- `'winpercent'` is calculated from the survey results; higher values indicate that the candy was more popular with survey respondents.\n",
    "\n",
    "Use the first five rows of the data to answer the questions below."
   ]
  },
  {
   "cell_type": "code",
   "execution_count": 6,
   "id": "1e3a076f",
   "metadata": {
    "execution": {
     "iopub.execute_input": "2023-12-01T19:17:18.712328Z",
     "iopub.status.busy": "2023-12-01T19:17:18.711724Z",
     "iopub.status.idle": "2023-12-01T19:17:18.723663Z",
     "shell.execute_reply": "2023-12-01T19:17:18.721765Z"
    },
    "papermill": {
     "duration": 0.024834,
     "end_time": "2023-12-01T19:17:18.726267",
     "exception": false,
     "start_time": "2023-12-01T19:17:18.701433",
     "status": "completed"
    },
    "tags": []
   },
   "outputs": [
    {
     "data": {
      "application/javascript": [
       "parent.postMessage({\"jupyterEvent\": \"custom.exercise_interaction\", \"data\": {\"outcomeType\": 1, \"valueTowardsCompletion\": 0.3333333333333333, \"interactionType\": 1, \"questionType\": 1, \"questionId\": \"2_ReviewData\", \"learnToolsVersion\": \"0.3.4\", \"failureMessage\": \"\", \"exceptionClass\": \"\", \"trace\": \"\"}}, \"*\")"
      ],
      "text/plain": [
       "<IPython.core.display.Javascript object>"
      ]
     },
     "metadata": {},
     "output_type": "display_data"
    },
    {
     "data": {
      "text/markdown": [
       "<span style=\"color:#33cc33\">Correct</span>"
      ],
      "text/plain": [
       "Correct"
      ]
     },
     "metadata": {},
     "output_type": "display_data"
    }
   ],
   "source": [
    "# Fill in the line below: Which candy was more popular with survey respondents:\n",
    "# '3 Musketeers' or 'Almond Joy'?  (Please enclose your answer in single quotes.)\n",
    "more_popular = '3 Musketeers'\n",
    "\n",
    "# Fill in the line below: Which candy has higher sugar content: 'Air Heads'\n",
    "# or 'Baby Ruth'? (Please enclose your answer in single quotes.)\n",
    "more_sugar = 'Air Heads'\n",
    "\n",
    "# Check your answers\n",
    "step_2.check()"
   ]
  },
  {
   "cell_type": "code",
   "execution_count": 7,
   "id": "59d4a385",
   "metadata": {
    "execution": {
     "iopub.execute_input": "2023-12-01T19:17:18.745201Z",
     "iopub.status.busy": "2023-12-01T19:17:18.744858Z",
     "iopub.status.idle": "2023-12-01T19:17:18.750794Z",
     "shell.execute_reply": "2023-12-01T19:17:18.749347Z"
    },
    "papermill": {
     "duration": 0.01899,
     "end_time": "2023-12-01T19:17:18.754207",
     "exception": false,
     "start_time": "2023-12-01T19:17:18.735217",
     "status": "completed"
    },
    "tags": []
   },
   "outputs": [],
   "source": [
    "# Lines below will give you a hint or solution code\n",
    "#step_2.hint()\n",
    "#step_2.solution()"
   ]
  },
  {
   "cell_type": "markdown",
   "id": "288a4109",
   "metadata": {
    "papermill": {
     "duration": 0.008327,
     "end_time": "2023-12-01T19:17:18.771776",
     "exception": false,
     "start_time": "2023-12-01T19:17:18.763449",
     "status": "completed"
    },
    "tags": []
   },
   "source": [
    "## Step 3: The role of sugar\n",
    "\n",
    "Do people tend to prefer candies with higher sugar content?  \n",
    "\n",
    "#### Part A\n",
    "\n",
    "Create a scatter plot that shows the relationship between `'sugarpercent'` (on the horizontal x-axis) and `'winpercent'` (on the vertical y-axis).  _Don't add a regression line just yet -- you'll do that in the next step!_"
   ]
  },
  {
   "cell_type": "code",
   "execution_count": 8,
   "id": "3f3d35a4",
   "metadata": {
    "execution": {
     "iopub.execute_input": "2023-12-01T19:17:18.790496Z",
     "iopub.status.busy": "2023-12-01T19:17:18.790188Z",
     "iopub.status.idle": "2023-12-01T19:17:19.061208Z",
     "shell.execute_reply": "2023-12-01T19:17:19.059649Z"
    },
    "papermill": {
     "duration": 0.283333,
     "end_time": "2023-12-01T19:17:19.063564",
     "exception": false,
     "start_time": "2023-12-01T19:17:18.780231",
     "status": "completed"
    },
    "tags": []
   },
   "outputs": [
    {
     "data": {
      "application/javascript": [
       "parent.postMessage({\"jupyterEvent\": \"custom.exercise_interaction\", \"data\": {\"outcomeType\": 1, \"valueTowardsCompletion\": 0.3333333333333333, \"interactionType\": 1, \"questionType\": 2, \"questionId\": \"3.1_PlotBlueScatter\", \"learnToolsVersion\": \"0.3.4\", \"failureMessage\": \"\", \"exceptionClass\": \"\", \"trace\": \"\"}}, \"*\")"
      ],
      "text/plain": [
       "<IPython.core.display.Javascript object>"
      ]
     },
     "metadata": {},
     "output_type": "display_data"
    },
    {
     "data": {
      "text/markdown": [
       "<span style=\"color:#33cc33\">Correct</span>"
      ],
      "text/plain": [
       "Correct"
      ]
     },
     "metadata": {},
     "output_type": "display_data"
    },
    {
     "data": {
      "image/png": "[encoded data removed]",
      "text/plain": [
       "<Figure size 640x480 with 1 Axes>"
      ]
     },
     "metadata": {},
     "output_type": "display_data"
    }
   ],
   "source": [
    "# Scatter plot showing the relationship between 'sugarpercent' and 'winpercent'\n",
    "sns.scatterplot(x=candy_data['sugarpercent'], y=candy_data['winpercent'])\n",
    "# Your code here\n",
    "\n",
    "# Check your answer\n",
    "step_3.a.check()"
   ]
  },
  {
   "cell_type": "code",
   "execution_count": 9,
   "id": "cbb11325",
   "metadata": {
    "execution": {
     "iopub.execute_input": "2023-12-01T19:17:19.085202Z",
     "iopub.status.busy": "2023-12-01T19:17:19.083935Z",
     "iopub.status.idle": "2023-12-01T19:17:19.089295Z",
     "shell.execute_reply": "2023-12-01T19:17:19.087952Z"
    },
    "papermill": {
     "duration": 0.018621,
     "end_time": "2023-12-01T19:17:19.091977",
     "exception": false,
     "start_time": "2023-12-01T19:17:19.073356",
     "status": "completed"
    },
    "tags": []
   },
   "outputs": [],
   "source": [
    "# Lines below will give you a hint or solution code\n",
    "#step_3.a.hint()\n",
    "#step_3.a.solution_plot()"
   ]
  },
  {
   "cell_type": "markdown",
   "id": "9aed5119",
   "metadata": {
    "papermill": {
     "duration": 0.00886,
     "end_time": "2023-12-01T19:17:19.110288",
     "exception": false,
     "start_time": "2023-12-01T19:17:19.101428",
     "status": "completed"
    },
    "tags": []
   },
   "source": [
    "#### Part B\n",
    "\n",
    "Does the scatter plot show a **strong** correlation between the two variables?  If so, are candies with more sugar relatively more or less popular with the survey respondents?"
   ]
  },
  {
   "cell_type": "code",
   "execution_count": 10,
   "id": "a944c7dc",
   "metadata": {
    "execution": {
     "iopub.execute_input": "2023-12-01T19:17:19.130971Z",
     "iopub.status.busy": "2023-12-01T19:17:19.130406Z",
     "iopub.status.idle": "2023-12-01T19:17:19.135711Z",
     "shell.execute_reply": "2023-12-01T19:17:19.134395Z"
    },
    "papermill": {
     "duration": 0.019178,
     "end_time": "2023-12-01T19:17:19.138645",
     "exception": false,
     "start_time": "2023-12-01T19:17:19.119467",
     "status": "completed"
    },
    "tags": []
   },
   "outputs": [],
   "source": [
    "#step_3.b.hint()"
   ]
  },
  {
   "cell_type": "code",
   "execution_count": 11,
   "id": "a77b56c3",
   "metadata": {
    "execution": {
     "iopub.execute_input": "2023-12-01T19:17:19.158549Z",
     "iopub.status.busy": "2023-12-01T19:17:19.158171Z",
     "iopub.status.idle": "2023-12-01T19:17:19.167229Z",
     "shell.execute_reply": "2023-12-01T19:17:19.165962Z"
    },
    "papermill": {
     "duration": 0.022245,
     "end_time": "2023-12-01T19:17:19.169997",
     "exception": false,
     "start_time": "2023-12-01T19:17:19.147752",
     "status": "completed"
    },
    "tags": []
   },
   "outputs": [
    {
     "data": {
      "application/javascript": [
       "parent.postMessage({\"jupyterEvent\": \"custom.exercise_interaction\", \"data\": {\"interactionType\": 3, \"questionType\": 4, \"questionId\": \"3.2_ThinkBlueScatter\", \"learnToolsVersion\": \"0.3.4\", \"valueTowardsCompletion\": 0.0, \"failureMessage\": \"\", \"exceptionClass\": \"\", \"trace\": \"\", \"outcomeType\": 4}}, \"*\")"
      ],
      "text/plain": [
       "<IPython.core.display.Javascript object>"
      ]
     },
     "metadata": {},
     "output_type": "display_data"
    },
    {
     "data": {
      "text/markdown": [
       "<span style=\"color:#33cc99\">Solution:</span> The scatter plot does not show a strong correlation between the two variables. Since there is no clear relationship between the two variables, this tells us that sugar content does not play a strong role in candy popularity."
      ],
      "text/plain": [
       "Solution: The scatter plot does not show a strong correlation between the two variables. Since there is no clear relationship between the two variables, this tells us that sugar content does not play a strong role in candy popularity."
      ]
     },
     "metadata": {},
     "output_type": "display_data"
    }
   ],
   "source": [
    "# Check your answer (Run this code cell to receive credit!)\n",
    "step_3.b.solution()"
   ]
  },
  {
   "cell_type": "markdown",
   "id": "9cf07ddb",
   "metadata": {
    "papermill": {
     "duration": 0.00925,
     "end_time": "2023-12-01T19:17:19.188967",
     "exception": false,
     "start_time": "2023-12-01T19:17:19.179717",
     "status": "completed"
    },
    "tags": []
   },
   "source": [
    "## Step 4: Take a closer look\n",
    "\n",
    "#### Part A\n",
    "\n",
    "Create the same scatter plot you created in **Step 3**, but now with a regression line!"
   ]
  },
  {
   "cell_type": "code",
   "execution_count": 12,
   "id": "40b0af44",
   "metadata": {
    "execution": {
     "iopub.execute_input": "2023-12-01T19:17:19.209900Z",
     "iopub.status.busy": "2023-12-01T19:17:19.209486Z",
     "iopub.status.idle": "2023-12-01T19:17:19.509384Z",
     "shell.execute_reply": "2023-12-01T19:17:19.508007Z"
    },
    "papermill": {
     "duration": 0.313419,
     "end_time": "2023-12-01T19:17:19.511976",
     "exception": false,
     "start_time": "2023-12-01T19:17:19.198557",
     "status": "completed"
    },
    "tags": []
   },
   "outputs": [
    {
     "data": {
      "application/javascript": [
       "parent.postMessage({\"jupyterEvent\": \"custom.exercise_interaction\", \"data\": {\"outcomeType\": 1, \"valueTowardsCompletion\": 0.3333333333333333, \"interactionType\": 1, \"questionType\": 2, \"questionId\": \"4.1_PlotBlueReg\", \"learnToolsVersion\": \"0.3.4\", \"failureMessage\": \"\", \"exceptionClass\": \"\", \"trace\": \"\"}}, \"*\")"
      ],
      "text/plain": [
       "<IPython.core.display.Javascript object>"
      ]
     },
     "metadata": {},
     "output_type": "display_data"
    },
    {
     "data": {
      "text/markdown": [
       "<span style=\"color:#33cc33\">Correct</span>"
      ],
      "text/plain": [
       "Correct"
      ]
     },
     "metadata": {},
     "output_type": "display_data"
    },
    {
     "data": {
      "image/png": "[encoded data removed]",
      "text/plain": [
       "<Figure size 640x480 with 1 Axes>"
      ]
     },
     "metadata": {},
     "output_type": "display_data"
    }
   ],
   "source": [
    "# Scatter plot w/ regression line showing the relationship between 'sugarpercent' and 'winpercent'\n",
    "sns.regplot(x=candy_data['sugarpercent'], y=candy_data['winpercent'])\n",
    "\n",
    "# Check your answer\n",
    "step_4.a.check()"
   ]
  },
  {
   "cell_type": "code",
   "execution_count": 13,
   "id": "b874be73",
   "metadata": {
    "execution": {
     "iopub.execute_input": "2023-12-01T19:17:19.533754Z",
     "iopub.status.busy": "2023-12-01T19:17:19.533392Z",
     "iopub.status.idle": "2023-12-01T19:17:19.537669Z",
     "shell.execute_reply": "2023-12-01T19:17:19.536397Z"
    },
    "papermill": {
     "duration": 0.018091,
     "end_time": "2023-12-01T19:17:19.540190",
     "exception": false,
     "start_time": "2023-12-01T19:17:19.522099",
     "status": "completed"
    },
    "tags": []
   },
   "outputs": [],
   "source": [
    "# Lines below will give you a hint or solution code\n",
    "#step_4.a.hint()\n",
    "#step_4.a.solution_plot()"
   ]
  },
  {
   "cell_type": "markdown",
   "id": "fb4d7e83",
   "metadata": {
    "papermill": {
     "duration": 0.009132,
     "end_time": "2023-12-01T19:17:19.559394",
     "exception": false,
     "start_time": "2023-12-01T19:17:19.550262",
     "status": "completed"
    },
    "tags": []
   },
   "source": [
    "#### Part B\n",
    "\n",
    "According to the plot above, is there a **slight** correlation between `'winpercent'` and `'sugarpercent'`?  What does this tell you about the candy that people tend to prefer?"
   ]
  },
  {
   "cell_type": "code",
   "execution_count": 14,
   "id": "f537170a",
   "metadata": {
    "execution": {
     "iopub.execute_input": "2023-12-01T19:17:19.581099Z",
     "iopub.status.busy": "2023-12-01T19:17:19.579997Z",
     "iopub.status.idle": "2023-12-01T19:17:19.584751Z",
     "shell.execute_reply": "2023-12-01T19:17:19.583828Z"
    },
    "papermill": {
     "duration": 0.018309,
     "end_time": "2023-12-01T19:17:19.587256",
     "exception": false,
     "start_time": "2023-12-01T19:17:19.568947",
     "status": "completed"
    },
    "tags": []
   },
   "outputs": [],
   "source": [
    "#step_4.b.hint()"
   ]
  },
  {
   "cell_type": "code",
   "execution_count": 15,
   "id": "ef753ef2",
   "metadata": {
    "execution": {
     "iopub.execute_input": "2023-12-01T19:17:19.669981Z",
     "iopub.status.busy": "2023-12-01T19:17:19.669562Z",
     "iopub.status.idle": "2023-12-01T19:17:19.677771Z",
     "shell.execute_reply": "2023-12-01T19:17:19.676736Z"
    },
    "papermill": {
     "duration": 0.021842,
     "end_time": "2023-12-01T19:17:19.680096",
     "exception": false,
     "start_time": "2023-12-01T19:17:19.658254",
     "status": "completed"
    },
    "tags": []
   },
   "outputs": [
    {
     "data": {
      "application/javascript": [
       "parent.postMessage({\"jupyterEvent\": \"custom.exercise_interaction\", \"data\": {\"interactionType\": 3, \"questionType\": 4, \"questionId\": \"4.2_ThinkBlueReg\", \"learnToolsVersion\": \"0.3.4\", \"valueTowardsCompletion\": 0.0, \"failureMessage\": \"\", \"exceptionClass\": \"\", \"trace\": \"\", \"outcomeType\": 4}}, \"*\")"
      ],
      "text/plain": [
       "<IPython.core.display.Javascript object>"
      ]
     },
     "metadata": {},
     "output_type": "display_data"
    },
    {
     "data": {
      "text/markdown": [
       "<span style=\"color:#33cc99\">Solution:</span> Since the regression line has a slightly positive slope, this tells us that there is a slightly positive correlation between `'winpercent'` and `'sugarpercent'`. Thus, people have a slight preference for candies containing relatively more sugar."
      ],
      "text/plain": [
       "Solution: Since the regression line has a slightly positive slope, this tells us that there is a slightly positive correlation between `'winpercent'` and `'sugarpercent'`. Thus, people have a slight preference for candies containing relatively more sugar."
      ]
     },
     "metadata": {},
     "output_type": "display_data"
    }
   ],
   "source": [
    "# Check your answer (Run this code cell to receive credit!)\n",
    "step_4.b.solution()"
   ]
  },
  {
   "cell_type": "markdown",
   "id": "85a1e4ec",
   "metadata": {
    "papermill": {
     "duration": 0.010071,
     "end_time": "2023-12-01T19:17:19.700431",
     "exception": false,
     "start_time": "2023-12-01T19:17:19.690360",
     "status": "completed"
    },
    "tags": []
   },
   "source": [
    "## Step 5: Chocolate!\n",
    "\n",
    "In the code cell below, create a scatter plot to show the relationship between `'pricepercent'` (on the horizontal x-axis) and `'winpercent'` (on the vertical y-axis). Use the `'chocolate'` column to color-code the points.  _Don't add any regression lines just yet -- you'll do that in the next step!_"
   ]
  },
  {
   "cell_type": "code",
   "execution_count": 16,
   "id": "160b7d3f",
   "metadata": {
    "execution": {
     "iopub.execute_input": "2023-12-01T19:17:19.723101Z",
     "iopub.status.busy": "2023-12-01T19:17:19.722703Z",
     "iopub.status.idle": "2023-12-01T19:17:20.020019Z",
     "shell.execute_reply": "2023-12-01T19:17:20.018633Z"
    },
    "papermill": {
     "duration": 0.311708,
     "end_time": "2023-12-01T19:17:20.022668",
     "exception": false,
     "start_time": "2023-12-01T19:17:19.710960",
     "status": "completed"
    },
    "tags": []
   },
   "outputs": [
    {
     "data": {
      "application/javascript": [
       "parent.postMessage({\"jupyterEvent\": \"custom.exercise_interaction\", \"data\": {\"outcomeType\": 1, \"valueTowardsCompletion\": 0.3333333333333333, \"interactionType\": 1, \"questionType\": 2, \"questionId\": \"5_ColorScatter\", \"learnToolsVersion\": \"0.3.4\", \"failureMessage\": \"\", \"exceptionClass\": \"\", \"trace\": \"\"}}, \"*\")"
      ],
      "text/plain": [
       "<IPython.core.display.Javascript object>"
      ]
     },
     "metadata": {},
     "output_type": "display_data"
    },
    {
     "data": {
      "text/markdown": [
       "<span style=\"color:#33cc33\">Correct</span>"
      ],
      "text/plain": [
       "Correct"
      ]
     },
     "metadata": {},
     "output_type": "display_data"
    },
    {
     "data": {
      "image/png": "[encoded data removed]",
      "text/plain": [
       "<Figure size 640x480 with 1 Axes>"
      ]
     },
     "metadata": {},
     "output_type": "display_data"
    }
   ],
   "source": [
    "# Scatter plot showing the relationship between 'pricepercent', 'winpercent', and 'chocolate'\n",
    "sns.scatterplot(x=candy_data['pricepercent'], y=candy_data['winpercent'], hue=candy_data['chocolate'])\n",
    "\n",
    " # Your code here\n",
    "\n",
    "# Check your answer\n",
    "step_5.check()"
   ]
  },
  {
   "cell_type": "code",
   "execution_count": 17,
   "id": "5f8b61bb",
   "metadata": {
    "execution": {
     "iopub.execute_input": "2023-12-01T19:17:20.046898Z",
     "iopub.status.busy": "2023-12-01T19:17:20.046490Z",
     "iopub.status.idle": "2023-12-01T19:17:20.052279Z",
     "shell.execute_reply": "2023-12-01T19:17:20.050989Z"
    },
    "papermill": {
     "duration": 0.021558,
     "end_time": "2023-12-01T19:17:20.055368",
     "exception": false,
     "start_time": "2023-12-01T19:17:20.033810",
     "status": "completed"
    },
    "tags": []
   },
   "outputs": [],
   "source": [
    "# Lines below will give you a hint or solution code\n",
    "#step_5.hint()\n",
    "#step_5.solution_plot()"
   ]
  },
  {
   "cell_type": "markdown",
   "id": "d890722c",
   "metadata": {
    "papermill": {
     "duration": 0.010952,
     "end_time": "2023-12-01T19:17:20.078330",
     "exception": false,
     "start_time": "2023-12-01T19:17:20.067378",
     "status": "completed"
    },
    "tags": []
   },
   "source": [
    "Can you see any interesting patterns in the scatter plot?  We'll investigate this plot further  by adding regression lines in the next step!\n",
    "\n",
    "## Step 6: Investigate chocolate\n",
    "\n",
    "#### Part A\n",
    "\n",
    "Create the same scatter plot you created in **Step 5**, but now with two regression lines, corresponding to (1) chocolate candies and (2) candies without chocolate."
   ]
  },
  {
   "cell_type": "code",
   "execution_count": 18,
   "id": "31380371",
   "metadata": {
    "execution": {
     "iopub.execute_input": "2023-12-01T19:17:20.102229Z",
     "iopub.status.busy": "2023-12-01T19:17:20.101890Z",
     "iopub.status.idle": "2023-12-01T19:17:20.751590Z",
     "shell.execute_reply": "2023-12-01T19:17:20.750002Z"
    },
    "papermill": {
     "duration": 0.665084,
     "end_time": "2023-12-01T19:17:20.754622",
     "exception": false,
     "start_time": "2023-12-01T19:17:20.089538",
     "status": "completed"
    },
    "tags": []
   },
   "outputs": [
    {
     "data": {
      "application/javascript": [
       "parent.postMessage({\"jupyterEvent\": \"custom.exercise_interaction\", \"data\": {\"outcomeType\": 1, \"valueTowardsCompletion\": 0.3333333333333333, \"interactionType\": 1, \"questionType\": 2, \"questionId\": \"6.1_PlotColorReg\", \"learnToolsVersion\": \"0.3.4\", \"failureMessage\": \"\", \"exceptionClass\": \"\", \"trace\": \"\"}}, \"*\")"
      ],
      "text/plain": [
       "<IPython.core.display.Javascript object>"
      ]
     },
     "metadata": {},
     "output_type": "display_data"
    },
    {
     "data": {
      "text/markdown": [
       "<span style=\"color:#33cc33\">Correct</span>"
      ],
      "text/plain": [
       "Correct"
      ]
     },
     "metadata": {},
     "output_type": "display_data"
    },
    {
     "data": {
      "image/png": "[encoded data removed]",
      "text/plain": [
       "<Figure size 578.611x500 with 1 Axes>"
      ]
     },
     "metadata": {},
     "output_type": "display_data"
    }
   ],
   "source": [
    "# Color-coded scatter plot w/ regression lines\n",
    "sns.lmplot(x=\"pricepercent\", y=\"winpercent\", hue=\"chocolate\", data=candy_data)\n",
    " # Your code here\n",
    "\n",
    "# Check your answer\n",
    "step_6.a.check()"
   ]
  },
  {
   "cell_type": "code",
   "execution_count": 19,
   "id": "ddf9466e",
   "metadata": {
    "execution": {
     "iopub.execute_input": "2023-12-01T19:17:20.781633Z",
     "iopub.status.busy": "2023-12-01T19:17:20.781264Z",
     "iopub.status.idle": "2023-12-01T19:17:20.786673Z",
     "shell.execute_reply": "2023-12-01T19:17:20.785222Z"
    },
    "papermill": {
     "duration": 0.022277,
     "end_time": "2023-12-01T19:17:20.788999",
     "exception": false,
     "start_time": "2023-12-01T19:17:20.766722",
     "status": "completed"
    },
    "tags": []
   },
   "outputs": [],
   "source": [
    "# Lines below will give you a hint or solution code\n",
    "#step_6.a.hint()\n",
    "#step_6.a.solution_plot()"
   ]
  },
  {
   "cell_type": "markdown",
   "id": "54c33406",
   "metadata": {
    "papermill": {
     "duration": 0.010879,
     "end_time": "2023-12-01T19:17:20.811979",
     "exception": false,
     "start_time": "2023-12-01T19:17:20.801100",
     "status": "completed"
    },
    "tags": []
   },
   "source": [
    "#### Part B\n",
    "\n",
    "Using the regression lines, what conclusions can you draw about the effects of chocolate and price on candy popularity?"
   ]
  },
  {
   "cell_type": "code",
   "execution_count": 20,
   "id": "0b3d0c7c",
   "metadata": {
    "execution": {
     "iopub.execute_input": "2023-12-01T19:17:20.837270Z",
     "iopub.status.busy": "2023-12-01T19:17:20.836083Z",
     "iopub.status.idle": "2023-12-01T19:17:20.842023Z",
     "shell.execute_reply": "2023-12-01T19:17:20.840345Z"
    },
    "papermill": {
     "duration": 0.021586,
     "end_time": "2023-12-01T19:17:20.844867",
     "exception": false,
     "start_time": "2023-12-01T19:17:20.823281",
     "status": "completed"
    },
    "tags": []
   },
   "outputs": [],
   "source": [
    "#step_6.b.hint()"
   ]
  },
  {
   "cell_type": "code",
   "execution_count": 21,
   "id": "28b7a434",
   "metadata": {
    "execution": {
     "iopub.execute_input": "2023-12-01T19:17:20.871381Z",
     "iopub.status.busy": "2023-12-01T19:17:20.870252Z",
     "iopub.status.idle": "2023-12-01T19:17:20.877026Z",
     "shell.execute_reply": "2023-12-01T19:17:20.876378Z"
    },
    "papermill": {
     "duration": 0.022581,
     "end_time": "2023-12-01T19:17:20.879409",
     "exception": false,
     "start_time": "2023-12-01T19:17:20.856828",
     "status": "completed"
    },
    "tags": []
   },
   "outputs": [
    {
     "data": {
      "application/javascript": [
       "parent.postMessage({\"jupyterEvent\": \"custom.exercise_interaction\", \"data\": {\"interactionType\": 3, \"questionType\": 4, \"questionId\": \"6.2_ThinkColorReg\", \"learnToolsVersion\": \"0.3.4\", \"valueTowardsCompletion\": 0.0, \"failureMessage\": \"\", \"exceptionClass\": \"\", \"trace\": \"\", \"outcomeType\": 4}}, \"*\")"
      ],
      "text/plain": [
       "<IPython.core.display.Javascript object>"
      ]
     },
     "metadata": {},
     "output_type": "display_data"
    },
    {
     "data": {
      "text/markdown": [
       "<span style=\"color:#33cc99\">Solution:</span> We'll begin with the regression line for chocolate candies. Since this line has a slightly positive slope, we can say that more expensive chocolate candies tend to be more popular (than relatively cheaper chocolate candies).  Likewise, since the regression line for candies without chocolate has a negative slope, we can say that if candies don't contain chocolate, they tend to be more popular when they are cheaper.  One important note, however, is that the dataset is quite small -- so we shouldn't invest too much trust in these patterns!  To inspire more confidence in the results, we should add more candies to the dataset."
      ],
      "text/plain": [
       "Solution: We'll begin with the regression line for chocolate candies. Since this line has a slightly positive slope, we can say that more expensive chocolate candies tend to be more popular (than relatively cheaper chocolate candies).  Likewise, since the regression line for candies without chocolate has a negative slope, we can say that if candies don't contain chocolate, they tend to be more popular when they are cheaper.  One important note, however, is that the dataset is quite small -- so we shouldn't invest too much trust in these patterns!  To inspire more confidence in the results, we should add more candies to the dataset."
      ]
     },
     "metadata": {},
     "output_type": "display_data"
    }
   ],
   "source": [
    "# Check your answer (Run this code cell to receive credit!)\n",
    "step_6.b.solution()"
   ]
  },
  {
   "cell_type": "markdown",
   "id": "3145cc6e",
   "metadata": {
    "papermill": {
     "duration": 0.01131,
     "end_time": "2023-12-01T19:17:20.902637",
     "exception": false,
     "start_time": "2023-12-01T19:17:20.891327",
     "status": "completed"
    },
    "tags": []
   },
   "source": [
    "## Step 7: Everybody loves chocolate.\n",
    "\n",
    "#### Part A\n",
    "\n",
    "Create a categorical scatter plot to highlight the relationship between `'chocolate'` and `'winpercent'`.  Put `'chocolate'` on the (horizontal) x-axis, and `'winpercent'` on the (vertical) y-axis."
   ]
  },
  {
   "cell_type": "code",
   "execution_count": 22,
   "id": "2c3833a8",
   "metadata": {
    "execution": {
     "iopub.execute_input": "2023-12-01T19:17:20.929530Z",
     "iopub.status.busy": "2023-12-01T19:17:20.928640Z",
     "iopub.status.idle": "2023-12-01T19:17:21.226020Z",
     "shell.execute_reply": "2023-12-01T19:17:21.225207Z"
    },
    "papermill": {
     "duration": 0.313264,
     "end_time": "2023-12-01T19:17:21.228816",
     "exception": false,
     "start_time": "2023-12-01T19:17:20.915552",
     "status": "completed"
    },
    "tags": []
   },
   "outputs": [
    {
     "data": {
      "application/javascript": [
       "parent.postMessage({\"jupyterEvent\": \"custom.exercise_interaction\", \"data\": {\"outcomeType\": 1, \"valueTowardsCompletion\": 0.3333333333333333, \"interactionType\": 1, \"questionType\": 2, \"questionId\": \"7.1_PlotSwarm\", \"learnToolsVersion\": \"0.3.4\", \"failureMessage\": \"\", \"exceptionClass\": \"\", \"trace\": \"\"}}, \"*\")"
      ],
      "text/plain": [
       "<IPython.core.display.Javascript object>"
      ]
     },
     "metadata": {},
     "output_type": "display_data"
    },
    {
     "data": {
      "text/markdown": [
       "<span style=\"color:#33cc33\">Correct</span>"
      ],
      "text/plain": [
       "Correct"
      ]
     },
     "metadata": {},
     "output_type": "display_data"
    },
    {
     "data": {
      "image/png": "[encoded data removed]",
      "text/plain": [
       "<Figure size 640x480 with 1 Axes>"
      ]
     },
     "metadata": {},
     "output_type": "display_data"
    }
   ],
   "source": [
    "# Scatter plot showing the relationship between 'chocolate' and 'winpercent'\n",
    "sns.swarmplot(x=\"chocolate\", y=\"winpercent\", data= candy_data) # Your code here\n",
    "\n",
    "# Check your answer\n",
    "step_7.a.check()"
   ]
  },
  {
   "cell_type": "code",
   "execution_count": 23,
   "id": "f63720f7",
   "metadata": {
    "execution": {
     "iopub.execute_input": "2023-12-01T19:17:21.261750Z",
     "iopub.status.busy": "2023-12-01T19:17:21.261257Z",
     "iopub.status.idle": "2023-12-01T19:17:21.266193Z",
     "shell.execute_reply": "2023-12-01T19:17:21.264892Z"
    },
    "papermill": {
     "duration": 0.023859,
     "end_time": "2023-12-01T19:17:21.268297",
     "exception": false,
     "start_time": "2023-12-01T19:17:21.244438",
     "status": "completed"
    },
    "tags": []
   },
   "outputs": [],
   "source": [
    "# Lines below will give you a hint or solution code\n",
    "#step_7.a.hint()\n",
    "#step_7.a.solution_plot()"
   ]
  },
  {
   "cell_type": "markdown",
   "id": "474336b9",
   "metadata": {
    "papermill": {
     "duration": 0.015439,
     "end_time": "2023-12-01T19:17:21.300386",
     "exception": false,
     "start_time": "2023-12-01T19:17:21.284947",
     "status": "completed"
    },
    "tags": []
   },
   "source": [
    "#### Part B\n",
    "\n",
    "You decide to dedicate a section of your report to the fact that chocolate candies tend to be more popular than candies without chocolate.  Which plot is more appropriate to tell this story: the plot from **Step 6**, or the plot from **Step 7**?"
   ]
  },
  {
   "cell_type": "code",
   "execution_count": 24,
   "id": "9bf66e5b",
   "metadata": {
    "execution": {
     "iopub.execute_input": "2023-12-01T19:17:21.328212Z",
     "iopub.status.busy": "2023-12-01T19:17:21.327096Z",
     "iopub.status.idle": "2023-12-01T19:17:21.332796Z",
     "shell.execute_reply": "2023-12-01T19:17:21.331786Z"
    },
    "papermill": {
     "duration": 0.021755,
     "end_time": "2023-12-01T19:17:21.335203",
     "exception": false,
     "start_time": "2023-12-01T19:17:21.313448",
     "status": "completed"
    },
    "tags": []
   },
   "outputs": [],
   "source": [
    "#step_7.b.hint()"
   ]
  },
  {
   "cell_type": "code",
   "execution_count": 25,
   "id": "7954d913",
   "metadata": {
    "execution": {
     "iopub.execute_input": "2023-12-01T19:17:21.361734Z",
     "iopub.status.busy": "2023-12-01T19:17:21.361150Z",
     "iopub.status.idle": "2023-12-01T19:17:21.370587Z",
     "shell.execute_reply": "2023-12-01T19:17:21.368935Z"
    },
    "papermill": {
     "duration": 0.025294,
     "end_time": "2023-12-01T19:17:21.372967",
     "exception": false,
     "start_time": "2023-12-01T19:17:21.347673",
     "status": "completed"
    },
    "tags": []
   },
   "outputs": [
    {
     "data": {
      "application/javascript": [
       "parent.postMessage({\"jupyterEvent\": \"custom.exercise_interaction\", \"data\": {\"interactionType\": 3, \"questionType\": 4, \"questionId\": \"7.2_ThinkSwarm\", \"learnToolsVersion\": \"0.3.4\", \"valueTowardsCompletion\": 0.0, \"failureMessage\": \"\", \"exceptionClass\": \"\", \"trace\": \"\", \"outcomeType\": 4}}, \"*\")"
      ],
      "text/plain": [
       "<IPython.core.display.Javascript object>"
      ]
     },
     "metadata": {},
     "output_type": "display_data"
    },
    {
     "data": {
      "text/markdown": [
       "<span style=\"color:#33cc99\">Solution:</span> In this case, the categorical scatter plot from **Step 7** is the more appropriate plot. While both plots tell the desired story, the plot from **Step 6** conveys far more information that could distract from the main point."
      ],
      "text/plain": [
       "Solution: In this case, the categorical scatter plot from **Step 7** is the more appropriate plot. While both plots tell the desired story, the plot from **Step 6** conveys far more information that could distract from the main point."
      ]
     },
     "metadata": {},
     "output_type": "display_data"
    }
   ],
   "source": [
    "# Check your answer (Run this code cell to receive credit!)\n",
    "step_7.b.solution()"
   ]
  },
  {
   "cell_type": "markdown",
   "id": "d083a244",
   "metadata": {
    "papermill": {
     "duration": 0.012116,
     "end_time": "2023-12-01T19:17:21.397711",
     "exception": false,
     "start_time": "2023-12-01T19:17:21.385595",
     "status": "completed"
    },
    "tags": []
   },
   "source": [
    "## Keep going\n",
    "\n",
    "Explore **[histograms and density plots](https://www.kaggle.com/alexisbcook/distributions)**."
   ]
  },
  {
   "cell_type": "markdown",
   "id": "025cde6a",
   "metadata": {
    "papermill": {
     "duration": 0.012117,
     "end_time": "2023-12-01T19:17:21.422123",
     "exception": false,
     "start_time": "2023-12-01T19:17:21.410006",
     "status": "completed"
    },
    "tags": []
   },
   "source": [
    "---\n",
    "\n",
    "\n",
    "\n",
    "\n",
    "*Have questions or comments? Visit the [course discussion forum](https://www.kaggle.com/learn/data-visualization/discussion) to chat with other learners.*"
   ]
  }
 ],
 "metadata": {
  "kaggle": {
   "accelerator": "none",
   "dataSources": [
    {
     "datasetId": 116573,
     "sourceId": 3551030,
     "sourceType": "datasetVersion"
    }
   ],
   "isGpuEnabled": false,
   "isInternetEnabled": false,
   "language": "python",
   "sourceType": "notebook"
  },
  "kernelspec": {
   "display_name": "Python 3",
   "language": "python",
   "name": "python3"
  },
  "language_info": {
   "codemirror_mode": {
    "name": "ipython",
    "version": 3
   },
   "file_extension": ".py",
   "mimetype": "text/x-python",
   "name": "python",
   "nbconvert_exporter": "python",
   "pygments_lexer": "ipython3",
   "version": "3.10.12"
  },
  "papermill": {
   "default_parameters": {},
   "duration": 8.278843,
   "end_time": "2023-12-01T19:17:22.056989",
   "environment_variables": {},
   "exception": null,
   "input_path": "__notebook__.ipynb",
   "output_path": "__notebook__.ipynb",
   "parameters": {},
   "start_time": "2023-12-01T19:17:13.778146",
   "version": "2.4.0"
  }
 },
 "nbformat": 4,
 "nbformat_minor": 5
}
